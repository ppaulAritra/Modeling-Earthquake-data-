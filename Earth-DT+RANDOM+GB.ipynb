{
 "cells": [
  {
   "cell_type": "code",
   "execution_count": 1,
   "id": "d4d85bad",
   "metadata": {},
   "outputs": [],
   "source": [
    "\n",
    "import pandas as pd\n",
    "import numpy as np \n",
    "import nltk\n",
    "import string\n",
    "import matplotlib.pyplot as plt\n",
    "%matplotlib inline\n",
    "import seaborn as sns\n",
    "import nltk\n",
    "import string\n",
    "from sklearn.preprocessing import LabelEncoder\n",
    "from sklearn.feature_extraction.text import CountVectorizer\n",
    "from sklearn.metrics import confusion_matrix\n",
    "from sklearn import metrics\n",
    "from sklearn.metrics import roc_curve, auc,accuracy_score,f1_score,precision_score,recall_score\n",
    "from sklearn.linear_model import ElasticNet, Lasso,  BayesianRidge, LassoLarsIC,Ridge\n",
    "from sklearn.kernel_ridge import KernelRidge\n",
    "from sklearn.pipeline import make_pipeline\n",
    "from sklearn.preprocessing import RobustScaler\n",
    "from sklearn.svm import LinearSVC\n",
    "from sklearn.base import BaseEstimator, TransformerMixin, RegressorMixin, clone\n",
    "from sklearn.model_selection import KFold, cross_val_score, train_test_split\n",
    "from sklearn.metrics import precision_score,recall_score,auc"
   ]
  },
  {
   "cell_type": "code",
   "execution_count": 2,
   "id": "3fd5f582",
   "metadata": {},
   "outputs": [],
   "source": [
    "import warnings\n",
    "warnings.filterwarnings(\"ignore\")"
   ]
  },
  {
   "cell_type": "code",
   "execution_count": 3,
   "id": "0a351417",
   "metadata": {},
   "outputs": [],
   "source": [
    "train_final = pd.read_csv(\"train_final_featured.csv\")"
   ]
  },
  {
   "cell_type": "code",
   "execution_count": 4,
   "id": "9094acc2",
   "metadata": {},
   "outputs": [
    {
     "name": "stdout",
     "output_type": "stream",
     "text": [
      "<class 'pandas.core.frame.DataFrame'>\n",
      "RangeIndex: 347469 entries, 0 to 347468\n",
      "Data columns (total 50 columns):\n",
      " #   Column                                  Non-Null Count   Dtype  \n",
      "---  ------                                  --------------   -----  \n",
      " 0   building_id                             347469 non-null  int64  \n",
      " 1   geo_level_1_id                          347469 non-null  int64  \n",
      " 2   geo_level_2_id                          347469 non-null  int64  \n",
      " 3   geo_level_3_id                          347469 non-null  int64  \n",
      " 4   count_floors_pre_eq                     347469 non-null  int64  \n",
      " 5   age                                     347469 non-null  int64  \n",
      " 6   area_percentage                         347469 non-null  int64  \n",
      " 7   height_percentage                       347469 non-null  int64  \n",
      " 8   land_surface_condition                  347469 non-null  object \n",
      " 9   foundation_type                         347469 non-null  object \n",
      " 10  roof_type                               347469 non-null  object \n",
      " 11  ground_floor_type                       347469 non-null  object \n",
      " 12  other_floor_type                        347469 non-null  object \n",
      " 13  position                                347469 non-null  object \n",
      " 14  plan_configuration                      347469 non-null  object \n",
      " 15  has_superstructure_stone_flag           347469 non-null  int64  \n",
      " 16  has_superstructure_cement_mortar_stone  347469 non-null  int64  \n",
      " 17  has_superstructure_mud_mortar_brick     347469 non-null  int64  \n",
      " 18  has_superstructure_cement_mortar_brick  347469 non-null  int64  \n",
      " 19  has_superstructure_rc_non_engineered    347469 non-null  int64  \n",
      " 20  has_superstructure_rc_engineered        347469 non-null  int64  \n",
      " 21  has_superstructure_other                347469 non-null  int64  \n",
      " 22  legal_ownership_status                  347469 non-null  object \n",
      " 23  count_families                          347469 non-null  int64  \n",
      " 24  has_secondary_use                       347469 non-null  int64  \n",
      " 25  has_secondary_use_agriculture           347469 non-null  int64  \n",
      " 26  has_secondary_use_hotel                 347469 non-null  int64  \n",
      " 27  has_secondary_use_rental                347469 non-null  int64  \n",
      " 28  has_secondary_use_institution           347469 non-null  int64  \n",
      " 29  has_secondary_use_school                347469 non-null  int64  \n",
      " 30  has_secondary_use_industry              347469 non-null  int64  \n",
      " 31  has_secondary_use_health_post           347469 non-null  int64  \n",
      " 32  has_secondary_use_gov_office            347469 non-null  int64  \n",
      " 33  has_secondary_use_use_police            347469 non-null  int64  \n",
      " 34  has_secondary_use_other                 347469 non-null  int64  \n",
      " 35  damage_grade                            347469 non-null  int64  \n",
      " 36  geo_level_1id_new                       347469 non-null  int64  \n",
      " 37  geo_level_2id_new                       347469 non-null  float64\n",
      " 38  geo_level_3id_new                       347469 non-null  float64\n",
      " 39  superstructure_first_combination        347469 non-null  int64  \n",
      " 40  superstructure_second_combination       347469 non-null  int64  \n",
      " 41  prob1_geo1                              347469 non-null  float64\n",
      " 42  prob2_geo1                              347469 non-null  float64\n",
      " 43  prob3_geo1                              347469 non-null  float64\n",
      " 44  prob1_geo2                              347469 non-null  float64\n",
      " 45  prob2_geo2                              347469 non-null  float64\n",
      " 46  prob3_geo2                              347469 non-null  float64\n",
      " 47  prob1_geo3                              347469 non-null  float64\n",
      " 48  prob2_geo3                              347469 non-null  float64\n",
      " 49  prob3_geo3                              347469 non-null  float64\n",
      "dtypes: float64(11), int64(31), object(8)\n",
      "memory usage: 132.5+ MB\n"
     ]
    }
   ],
   "source": [
    "train_final.info()"
   ]
  },
  {
   "cell_type": "code",
   "execution_count": 5,
   "id": "7c9c82af",
   "metadata": {},
   "outputs": [],
   "source": [
    "cat_feats = ['land_surface_condition', 'foundation_type', 'roof_type',\n",
    "       'ground_floor_type', 'other_floor_type', 'position','legal_ownership_status',\n",
    "       'plan_configuration']"
   ]
  },
  {
   "cell_type": "code",
   "execution_count": 6,
   "id": "aeb47f81",
   "metadata": {},
   "outputs": [],
   "source": [
    "train_final = pd.get_dummies(train_final,columns=cat_feats,drop_first=False)\n",
    "train_final = train_final.drop(columns =\"prob1_geo1\")\n",
    "train_final = train_final.drop(columns =\"prob2_geo1\")\n",
    "train_final = train_final.drop(columns =\"prob3_geo1\")\n",
    "train_final = train_final.drop(columns =\"prob1_geo2\")\n",
    "train_final = train_final.drop(columns =\"prob2_geo2\")\n",
    "train_final = train_final.drop(columns =\"prob3_geo2\")\n",
    "train_final = train_final.drop(columns =\"prob1_geo3\")\n",
    "train_final = train_final.drop(columns =\"prob2_geo3\")\n",
    "train_final = train_final.drop(columns =\"prob3_geo3\")"
   ]
  },
  {
   "cell_type": "code",
   "execution_count": 7,
   "id": "fedc9d3c",
   "metadata": {},
   "outputs": [],
   "source": [
    "train = train_final[(train_final['damage_grade'] != -1)]\n",
    "#train.drop('building_id',axis=1)\n",
    "test = train_final[(train_final['damage_grade'] == -1)]\n",
    "test.index -=260601"
   ]
  },
  {
   "cell_type": "code",
   "execution_count": 8,
   "id": "3404bef9",
   "metadata": {},
   "outputs": [],
   "source": [
    "from sklearn.model_selection import train_test_split\n",
    "X = train.drop('damage_grade',axis=1)\n",
    "y = train['damage_grade']"
   ]
  },
  {
   "cell_type": "code",
   "execution_count": 10,
   "id": "2417d512",
   "metadata": {},
   "outputs": [],
   "source": [
    "X_train, X_test, y_train, y_test = train_test_split(X, y, test_size=0.15, random_state=35)\n"
   ]
  },
  {
   "cell_type": "code",
   "execution_count": 11,
   "id": "4b90723f",
   "metadata": {},
   "outputs": [],
   "source": [
    "from sklearn.tree import DecisionTreeClassifier\n",
    "from sklearn.ensemble import RandomForestClassifier, GradientBoostingClassifier"
   ]
  },
  {
   "cell_type": "code",
   "execution_count": 51,
   "id": "c64ff9da",
   "metadata": {},
   "outputs": [],
   "source": [
    "classifiers = [\n",
    "    \n",
    "    DecisionTreeClassifier(),\n",
    "    RandomForestClassifier(),\n",
    "   # GradientBoostingClassifier()\n",
    "]"
   ]
  },
  {
   "cell_type": "code",
   "execution_count": 52,
   "id": "2d95a379",
   "metadata": {},
   "outputs": [],
   "source": [
    "def model_and_test(X, y, classifiers):\n",
    "    X_train, X_test, y_train, y_test = train_test_split(X, y, test_size = 0.25, random_state = 35)\n",
    "    \n",
    "    for model in classifiers:\n",
    "        this_model = model.__class__.__name__\n",
    "        model.fit(X_train, y_train)\n",
    "        y_pred = model.predict(X_test)\n",
    "\n",
    "        print(f'{this_model} f1 score:')\n",
    "        score = f1_score(y_test, y_pred, average='micro')\n",
    "        print(f'{score:.4f}')\n",
    "        print('\\n')"
   ]
  },
  {
   "cell_type": "code",
   "execution_count": 53,
   "id": "06511a6c",
   "metadata": {},
   "outputs": [
    {
     "name": "stdout",
     "output_type": "stream",
     "text": [
      "DecisionTreeClassifier f1 score:\n",
      "0.6723\n",
      "\n",
      "\n",
      "RandomForestClassifier f1 score:\n",
      "0.7445\n",
      "\n",
      "\n"
     ]
    }
   ],
   "source": [
    "model_and_test(X, y, classifiers)"
   ]
  },
  {
   "cell_type": "code",
   "execution_count": 24,
   "id": "5d7d98c2",
   "metadata": {},
   "outputs": [
    {
     "name": "stdout",
     "output_type": "stream",
     "text": [
      "RandomForestClassifier(max_depth=9, min_samples_split=5, n_estimators=500) f1 score:\n",
      "0.7449\n",
      "\n",
      "\n"
     ]
    }
   ],
   "source": [
    "model_rf = RandomForestClassifier(max_depth=9, min_samples_split=5, n_estimators=500)\n",
    "model_rf.fit(X_train, y_train)\n",
    "y_pred = model_rf.predict(X_test)\n",
    "\n",
    "print(f'{model_rf} f1 score:')\n",
    "score = f1_score(y_test, y_pred, average='micro')\n",
    "print(f'{score:.4f}')\n",
    "print('\\n')"
   ]
  },
  {
   "cell_type": "markdown",
   "id": "1b56bf22",
   "metadata": {},
   "source": [
    "final score 0.7276"
   ]
  },
  {
   "cell_type": "code",
   "execution_count": 23,
   "id": "c8710450",
   "metadata": {},
   "outputs": [
    {
     "name": "stdout",
     "output_type": "stream",
     "text": [
      "DecisionTreeClassifier(max_depth=8, min_samples_split=5) f1 score:\n",
      "0.7486\n",
      "\n",
      "\n"
     ]
    }
   ],
   "source": [
    "model_dt = DecisionTreeClassifier(max_depth=8, min_samples_split=5)\n",
    "model_dt.fit(X_train, y_train)\n",
    "y_pred = model_dt.predict(X_test)\n",
    "\n",
    "print(f'{model_dt} f1 score:')\n",
    "score = f1_score(y_test, y_pred, average='micro')\n",
    "print(f'{score:.4f}')\n",
    "print('\\n')"
   ]
  },
  {
   "cell_type": "markdown",
   "id": "96872dd8",
   "metadata": {},
   "source": [
    "final 7273"
   ]
  },
  {
   "cell_type": "code",
   "execution_count": 34,
   "id": "e1ae4b65",
   "metadata": {},
   "outputs": [
    {
     "name": "stdout",
     "output_type": "stream",
     "text": [
      "GradientBoostingClassifier(learning_rate=0.03, max_depth=8, min_samples_split=5,\n",
      "                           n_estimators=500) f1 score:\n",
      "0.7603\n",
      "\n",
      "\n",
      "Accuracy: 0.7603284643524085\n"
     ]
    }
   ],
   "source": [
    "model_gb = GradientBoostingClassifier(learning_rate=0.03,n_estimators=500,max_depth=8,min_samples_split=5)\n",
    "model_gb.fit(X_train, y_train)\n",
    "y_pred = model_gb.predict(X_test)\n",
    "\n",
    "print(f'{model_gb} f1 score:')\n",
    "score = f1_score(y_test, y_pred, average='micro')\n",
    "print(f'{score:.4f}')\n",
    "print('\\n')\n",
    "accuracy = accuracy_score(y_test, y_pred)\n",
    "print(\"Accuracy:\", accuracy)\n"
   ]
  },
  {
   "cell_type": "markdown",
   "id": "d6c5bbbd",
   "metadata": {},
   "source": [
    "final 7419"
   ]
  },
  {
   "cell_type": "code",
   "execution_count": 30,
   "id": "062f6216",
   "metadata": {},
   "outputs": [],
   "source": [
    "#test = test.drop('damage_grade',axis=1)\n",
    "prediction=model_gb.predict(test).tolist()"
   ]
  },
  {
   "cell_type": "code",
   "execution_count": 31,
   "id": "f1f46781",
   "metadata": {},
   "outputs": [],
   "source": [
    "result=pd.DataFrame(prediction)"
   ]
  },
  {
   "cell_type": "code",
   "execution_count": 32,
   "id": "3445cf18",
   "metadata": {},
   "outputs": [
    {
     "data": {
      "text/html": [
       "<div>\n",
       "<style scoped>\n",
       "    .dataframe tbody tr th:only-of-type {\n",
       "        vertical-align: middle;\n",
       "    }\n",
       "\n",
       "    .dataframe tbody tr th {\n",
       "        vertical-align: top;\n",
       "    }\n",
       "\n",
       "    .dataframe thead th {\n",
       "        text-align: right;\n",
       "    }\n",
       "</style>\n",
       "<table border=\"1\" class=\"dataframe\">\n",
       "  <thead>\n",
       "    <tr style=\"text-align: right;\">\n",
       "      <th></th>\n",
       "      <th>building_id</th>\n",
       "      <th>damage_grade</th>\n",
       "    </tr>\n",
       "  </thead>\n",
       "  <tbody>\n",
       "    <tr>\n",
       "      <th>0</th>\n",
       "      <td>300051</td>\n",
       "      <td>3</td>\n",
       "    </tr>\n",
       "    <tr>\n",
       "      <th>1</th>\n",
       "      <td>99355</td>\n",
       "      <td>2</td>\n",
       "    </tr>\n",
       "    <tr>\n",
       "      <th>2</th>\n",
       "      <td>890251</td>\n",
       "      <td>3</td>\n",
       "    </tr>\n",
       "    <tr>\n",
       "      <th>3</th>\n",
       "      <td>745817</td>\n",
       "      <td>1</td>\n",
       "    </tr>\n",
       "    <tr>\n",
       "      <th>4</th>\n",
       "      <td>421793</td>\n",
       "      <td>3</td>\n",
       "    </tr>\n",
       "  </tbody>\n",
       "</table>\n",
       "</div>"
      ],
      "text/plain": [
       "   building_id  damage_grade\n",
       "0       300051             3\n",
       "1        99355             2\n",
       "2       890251             3\n",
       "3       745817             1\n",
       "4       421793             3"
      ]
     },
     "execution_count": 32,
     "metadata": {},
     "output_type": "execute_result"
    }
   ],
   "source": [
    "result['building_id']=test['building_id']\n",
    "result.rename(columns={0:'damage_grade'},inplace=True)\n",
    "result=result[['building_id','damage_grade']]\n",
    "result.head()"
   ]
  },
  {
   "cell_type": "code",
   "execution_count": 33,
   "id": "eb08e337",
   "metadata": {},
   "outputs": [],
   "source": [
    "result.to_csv('result.csv',index=False)"
   ]
  },
  {
   "cell_type": "markdown",
   "id": "bedc301f",
   "metadata": {},
   "source": []
  },
  {
   "cell_type": "code",
   "execution_count": null,
   "id": "b816593c",
   "metadata": {},
   "outputs": [],
   "source": []
  }
 ],
 "metadata": {
  "kernelspec": {
   "display_name": "Python 3",
   "language": "python",
   "name": "python3"
  },
  "language_info": {
   "codemirror_mode": {
    "name": "ipython",
    "version": 3
   },
   "file_extension": ".py",
   "mimetype": "text/x-python",
   "name": "python",
   "nbconvert_exporter": "python",
   "pygments_lexer": "ipython3",
   "version": "3.8.8"
  }
 },
 "nbformat": 4,
 "nbformat_minor": 5
}
